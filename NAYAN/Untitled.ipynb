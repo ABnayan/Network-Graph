{
 "cells": [
  {
   "cell_type": "code",
   "execution_count": 3,
   "metadata": {},
   "outputs": [],
   "source": [
    "import pandas as pd\n",
    "import networkx as nx"
   ]
  },
  {
   "cell_type": "code",
   "execution_count": 4,
   "metadata": {},
   "outputs": [
    {
     "name": "stdout",
     "output_type": "stream",
     "text": [
      "<class 'pandas.core.frame.DataFrame'>\n",
      "RangeIndex: 100 entries, 0 to 99\n",
      "Data columns (total 15 columns):\n",
      "DocID               100 non-null object\n",
      "SetID               100 non-null object\n",
      "NDCCode             100 non-null object\n",
      "NDCName             100 non-null object\n",
      "GenericName         0 non-null float64\n",
      "FormCode            0 non-null float64\n",
      "FormName            0 non-null float64\n",
      "IngredientStatus    100 non-null object\n",
      "IngredientCode      100 non-null object\n",
      "SubstanceName       100 non-null object\n",
      "Dose                0 non-null float64\n",
      "unit                100 non-null object\n",
      "MoietyName          0 non-null float64\n",
      "MoietyCode          0 non-null float64\n",
      "SPECIFICATION       100 non-null object\n",
      "dtypes: float64(6), object(9)\n",
      "memory usage: 11.8+ KB\n"
     ]
    }
   ],
   "source": [
    "data = pd.read_csv(\"C:\\\\Users\\\\sweta\\\\Desktop\\\\sample.csv\")\n",
    "#print(data)\n",
    "len(data)\n",
    "data.info()"
   ]
  },
  {
   "cell_type": "code",
   "execution_count": 5,
   "metadata": {},
   "outputs": [
    {
     "name": "stdout",
     "output_type": "stream",
     "text": [
      "                                             NDCName           SubstanceName\n",
      "0  BodycologyExotic Cherry Kit\\n                 ...                   WATER\n",
      "1  BodycologyExotic Cherry Kit\\n                 ...  SODIUM LAURETH SULFATE\n",
      "2  BodycologyExotic Cherry Kit\\n                 ...  COCAMIDOPROPYL BETAINE\n",
      "3  BodycologyExotic Cherry Kit\\n                 ...          ALOE VERA LEAF\n",
      "4  BodycologyExotic Cherry Kit\\n                 ...                   HONEY\n"
     ]
    }
   ],
   "source": [
    "network = data.drop([\"DocID\",\"SetID\",\"NDCCode\",\"GenericName\",\"FormCode\",\"FormName\",\"IngredientStatus\",\"IngredientCode\",\"Dose\",\"unit\",\"MoietyName\",\"MoietyCode\",\"SPECIFICATION\"],axis=1)\n",
    "print(network.head(5))"
   ]
  },
  {
   "cell_type": "markdown",
   "metadata": {},
   "source": [
    "### STEP-1"
   ]
  },
  {
   "cell_type": "code",
   "execution_count": 9,
   "metadata": {},
   "outputs": [
    {
     "name": "stdout",
     "output_type": "stream",
     "text": [
      "{'NDCName': array([0.51797937, 1.        ]), 'SubstanceName': array([-0.51797937, -1.        ])}\n"
     ]
    }
   ],
   "source": [
    "layout = nx.spring_layout(network,k=1)\n",
    "print(layout)"
   ]
  },
  {
   "cell_type": "markdown",
   "metadata": {},
   "source": [
    "### STEP-2"
   ]
  },
  {
   "cell_type": "code",
   "execution_count": 20,
   "metadata": {},
   "outputs": [
    {
     "ename": "AttributeError",
     "evalue": "'Figure' object has no attribute 'show'",
     "output_type": "error",
     "traceback": [
      "\u001b[1;31m---------------------------------------------------------------------------\u001b[0m",
      "\u001b[1;31mAttributeError\u001b[0m                            Traceback (most recent call last)",
      "\u001b[1;32m<ipython-input-20-34434eba3447>\u001b[0m in \u001b[0;36m<module>\u001b[1;34m\u001b[0m\n\u001b[0;32m     10\u001b[0m \u001b[1;33m\u001b[0m\u001b[0m\n\u001b[0;32m     11\u001b[0m \u001b[0mplot\u001b[0m \u001b[1;33m=\u001b[0m \u001b[0mfigure\u001b[0m\u001b[1;33m(\u001b[0m\u001b[0mplot_width\u001b[0m\u001b[1;33m=\u001b[0m\u001b[1;36m800\u001b[0m\u001b[1;33m,\u001b[0m\u001b[0mplot_height\u001b[0m\u001b[1;33m=\u001b[0m\u001b[1;36m400\u001b[0m\u001b[1;33m,\u001b[0m\u001b[0mtools\u001b[0m\u001b[1;33m=\u001b[0m\u001b[1;33m[\u001b[0m\u001b[1;34m\"tap\"\u001b[0m\u001b[1;33m,\u001b[0m\u001b[0mhover\u001b[0m\u001b[1;33m,\u001b[0m\u001b[1;34m\"box_zoom\"\u001b[0m\u001b[1;33m,\u001b[0m\u001b[1;34m\"reset\"\u001b[0m\u001b[1;33m]\u001b[0m\u001b[1;33m)\u001b[0m\u001b[1;33m\u001b[0m\u001b[1;33m\u001b[0m\u001b[0m\n\u001b[1;32m---> 12\u001b[1;33m \u001b[0mplot\u001b[0m\u001b[1;33m.\u001b[0m\u001b[0mshow\u001b[0m\u001b[1;33m(\u001b[0m\u001b[1;33m)\u001b[0m\u001b[1;33m\u001b[0m\u001b[1;33m\u001b[0m\u001b[0m\n\u001b[0m\u001b[0;32m     13\u001b[0m \u001b[1;31m#r_circles  = plot.circle(x,y,source=data,size=10,color=\"blue\",level=\"overlay\")\u001b[0m\u001b[1;33m\u001b[0m\u001b[1;33m\u001b[0m\u001b[1;33m\u001b[0m\u001b[0m\n",
      "\u001b[1;31mAttributeError\u001b[0m: 'Figure' object has no attribute 'show'"
     ]
    }
   ],
   "source": [
    "from bokeh.io import output_notebook\n",
    "from bokeh.plotting import show,figure\n",
    "from bokeh.models import GraphRenderer, StaticLayoutProvider, Oval,HoverTool\n",
    "from bokeh.palettes import Spectral8\n",
    "\n",
    "x=network[\"NDCName\"]\n",
    "y=network[\"SubstanceName\"]\n",
    "\n",
    "hover = HoverTool(tooltips=[(\"NDCName\",\"@NDCName\"),(\"SubstanceName\",\"@SubstanceName\")])\n",
    "\n",
    "plot = figure(plot_width=800,plot_height=400,tools=[\"tap\",hover,\"box_zoom\",\"reset\"])\n",
    "\n",
    "r_circles  = plot.circle(x,y,source=data,size=10,color=\"blue\",level=\"overlay\")"
   ]
  },
  {
   "cell_type": "markdown",
   "metadata": {},
   "source": [
    "### STEP-3"
   ]
  },
  {
   "cell_type": "code",
   "execution_count": 25,
   "metadata": {},
   "outputs": [
    {
     "ename": "SyntaxError",
     "evalue": "invalid syntax (<ipython-input-25-06d12b2db502>, line 3)",
     "output_type": "error",
     "traceback": [
      "\u001b[1;36m  File \u001b[1;32m\"<ipython-input-25-06d12b2db502>\"\u001b[1;36m, line \u001b[1;32m3\u001b[0m\n\u001b[1;33m    weights = d[\"weights\"] for u,v,d in _network.edges(data=True)\u001b[0m\n\u001b[1;37m                             ^\u001b[0m\n\u001b[1;31mSyntaxError\u001b[0m\u001b[1;31m:\u001b[0m invalid syntax\n"
     ]
    }
   ],
   "source": [
    "def get_edges_specs(_network,_layout):\n",
    "    d= dict(x,y)\n",
    "    weights = [d[\"weights\"]] for u,v,d in _network.edges(data=True)\n",
    "    \n",
    "    for u,v,data in _network.edges(data=True):\n",
    "        d[x].append([_layout[u][0],_layout[v][0]])\n",
    "        d[x].append([_layout[u][0],_layout[v][0]])\n",
    "    return d\n",
    "    "
   ]
  },
  {
   "cell_type": "code",
   "execution_count": null,
   "metadata": {},
   "outputs": [],
   "source": []
  },
  {
   "cell_type": "code",
   "execution_count": null,
   "metadata": {},
   "outputs": [],
   "source": []
  }
 ],
 "metadata": {
  "kernelspec": {
   "display_name": "Python 3",
   "language": "python",
   "name": "python3"
  },
  "language_info": {
   "codemirror_mode": {
    "name": "ipython",
    "version": 3
   },
   "file_extension": ".py",
   "mimetype": "text/x-python",
   "name": "python",
   "nbconvert_exporter": "python",
   "pygments_lexer": "ipython3",
   "version": "3.7.3"
  }
 },
 "nbformat": 4,
 "nbformat_minor": 2
}
