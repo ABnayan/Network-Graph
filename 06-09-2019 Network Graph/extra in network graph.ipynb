{
 "cells": [
  {
   "cell_type": "code",
   "execution_count": null,
   "metadata": {},
   "outputs": [],
   "source": [
    "graph_renderer.edge_renderer.data_source\n",
    "from pandas import DataFrame\n",
    "\n",
    "\n",
    "df = DataFrame(data_f[\"NDCName\"], columns= ['NDCName'])\n",
    "\n",
    "export_csv = df.to_csv (r\"C:\\\\Users\\\\Drl\\\\Desktop\\\\NDC2.csv\", index = None, header=True) #Don't forget to add '.csv' at the end of the path\n",
    "\n",
    "#print (df)\n",
    "\n",
    "df1 = DataFrame(data_f[\"SubstanceName\"], columns= ['SubstanceName'])\n",
    "\n",
    "export_csv1 = df.to_csv (r\"C:\\\\Users\\\\Drl\\\\Desktop\\\\SUBSTANCES2.csv\", index = None, header=True) #Don't forget to add '.csv' at the end of the path\n",
    "\n",
    "#print (df1)\n",
    "\n",
    "df2 = DataFrame(ndc)\n",
    "#print(df2)\n",
    "export_csv2 = df.to_csv (r\"C:\\\\Users\\\\Drl\\\\Desktop\\\\ndc3.csv\", index = None, header=True) #Don't forget to add '.csv' at the end of the path\n",
    "\n",
    "df3 = DataFrame(substances)\n",
    "#print(df3)\n",
    "export_csv3 = df.to_csv (r\"C:\\\\Users\\\\Drl\\\\Desktop\\\\sub3.csv\", index = None, header=True) #Don't forget to add '.csv' at the end of the path\n"
   ]
  },
  {
   "cell_type": "code",
   "execution_count": null,
   "metadata": {},
   "outputs": [],
   "source": [
    "import pandas as pd\n",
    "import holoviews as hv\n",
    "hv.extension('bokeh')\n",
    "\n",
    "edges_df = pd.read_csv(\"C:\\\\Users\\\\Drl\\\\Desktop\\\\SUBSTANCES2.csv\")\n",
    "nodes_df = pd.read_csv(\"C:\\\\Users\\\\Drl\\\\Desktop\\\\NDC2.csv\")\n",
    "\n",
    "fb_nodes = hv.Nodes(nodes_df).sort()\n",
    "fb_graph = hv.Graph((edges_df, fb_nodes), label='Network Graph')\n",
    "\n",
    "colors = ['#000000']+hv.Cycle('Category20').values\n",
    "fb_graph = fb_graph.redim.range(x=(-0.05, 1.05), \n",
    "                                y=(-0.05, 1.05))\n",
    "fb_graph.opts(color_index='circle', width=800, height=800, show_frame=False,\n",
    "                 xaxis=None, yaxis=None,node_size=10, edge_line_width=1, cmap=colors)"
   ]
  },
  {
   "cell_type": "code",
   "execution_count": null,
   "metadata": {},
   "outputs": [],
   "source": [
    "import numpy as np\n",
    "import pandas as pd\n",
    "import holoviews as hv\n",
    "import networkx as nx\n",
    "from holoviews import opts\n",
    "import hvplot.networkx as hvnx\n",
    "\n",
    "\n",
    "hv.extension('bokeh')\n",
    "\n",
    "\n",
    "pos = nx.spring_layout(g)\n",
    "colors = range(20)\n",
    "hvnx.draw(g, pos, node_color='#A0CBE2', edge_color=colors,\n",
    "          edge_width=4, edge_cmap='Blues', with_labels=False)\n",
    "\n"
   ]
  },
  {
   "cell_type": "code",
   "execution_count": null,
   "metadata": {},
   "outputs": [],
   "source": [
    "\n",
    "ndc.to_csv(ndc.csv, sep='\\t', encoding='utf-8')\n",
    "print(ndc.csv)"
   ]
  },
  {
   "cell_type": "code",
   "execution_count": null,
   "metadata": {},
   "outputs": [],
   "source": [
    "import networkx as nx\n",
    "from holoviews import opts\n",
    "\n",
    "hv.extension('bokeh')\n",
    "\n",
    "G = nx.star_graph(20)\n",
    "pos = nx.spring_layout(G)\n",
    "colors = rang"
   ]
  },
  {
   "cell_type": "code",
   "execution_count": null,
   "metadata": {},
   "outputs": [],
   "source": [
    "# Declare abstract edges\n",
    "from pandas import DataFrame\n",
    "\n",
    "source = DataFrame(node_dict,dtype='U25')\n",
    "target = DataFrame(node_dict1,dtype='U25')\n",
    "\n",
    "\n",
    "simple_graph = hv.Graph(((source, target)))\n",
    "simple_graph"
   ]
  },
  {
   "cell_type": "code",
   "execution_count": null,
   "metadata": {},
   "outputs": [],
   "source": [
    "node_info = hv.Dataset(data,['NDCName', 'SubstanceName'])\n",
    "layout = node_info.to(hv.Curve, 'NDCName', 'SubstanceName')\n",
    "#layout.opts(opts.Curve(width = 500, height = 500, framewise = True))\n",
    "layout.opts(opts.Graph(cmap=colors, node_size=10, edge_line_width=1,node_line_color='gray', node_color='circle'))\n",
    "\n",
    "\n",
    "\n",
    "\n",
    "'''\n",
    "from holoviews.operation.datashader import datashade, bundle_graph\n",
    "layout.opts(opts.bundle_graph(cmap=colors, node_size=10, edge_line_width=1,node_line_color='gray', node_color='circle'))'''"
   ]
  }
 ],
 "metadata": {
  "kernelspec": {
   "display_name": "Python 3",
   "language": "python",
   "name": "python3"
  },
  "language_info": {
   "codemirror_mode": {
    "name": "ipython",
    "version": 3
   },
   "file_extension": ".py",
   "mimetype": "text/x-python",
   "name": "python",
   "nbconvert_exporter": "python",
   "pygments_lexer": "ipython3",
   "version": "3.7.3"
  }
 },
 "nbformat": 4,
 "nbformat_minor": 2
}
